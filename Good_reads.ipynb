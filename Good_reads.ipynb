{
  "nbformat": 4,
  "nbformat_minor": 0,
  "metadata": {
    "colab": {
      "provenance": [],
      "authorship_tag": "ABX9TyN9JR+8PskL2PjXeK58Pbwx",
      "include_colab_link": true
    },
    "kernelspec": {
      "name": "python3",
      "display_name": "Python 3"
    },
    "language_info": {
      "name": "python"
    },
    "accelerator": "GPU",
    "gpuClass": "standard"
  },
  "cells": [
    {
      "cell_type": "markdown",
      "metadata": {
        "id": "view-in-github",
        "colab_type": "text"
      },
      "source": [
        "<a href=\"https://colab.research.google.com/github/javedbaig/Good_Reads/blob/main/Good_reads.ipynb\" target=\"_parent\"><img src=\"https://colab.research.google.com/assets/colab-badge.svg\" alt=\"Open In Colab\"/></a>"
      ]
    },
    {
      "cell_type": "code",
      "execution_count": null,
      "metadata": {
        "id": "7eAoiF-BQ5KD"
      },
      "outputs": [],
      "source": [
        "import numpy as np\n",
        "import pandas as pd\n",
        "import seaborn as sns\n",
        "import matplotlib.pyplot as plt\n",
        "import csv"
      ]
    },
    {
      "cell_type": "code",
      "source": [
        "test_case = pd.read_csv('/content/my_goodreads_test.csv', encoding='utf-8',engine='python')"
      ],
      "metadata": {
        "id": "xEY4Rs-cO9oS"
      },
      "execution_count": null,
      "outputs": []
    },
    {
      "cell_type": "code",
      "source": [
        "df = pd.read_csv('/content/my_goodreads_train.csv', encoding='utf-8', engine='python', quoting=csv.QUOTE_NONE)"
      ],
      "metadata": {
        "id": "2qPkBUhvPcrZ"
      },
      "execution_count": null,
      "outputs": []
    },
    {
      "cell_type": "code",
      "source": [
        "df.shape"
      ],
      "metadata": {
        "id": "Qfv1pOju7M6I"
      },
      "execution_count": null,
      "outputs": []
    },
    {
      "cell_type": "code",
      "source": [
        "import os\n",
        "import random\n",
        "from keras.preprocessing.text import Tokenizer\n",
        "from keras.preprocessing import text\n",
        "from keras.utils import pad_sequences\n",
        "from keras.models import Sequential\n",
        "from keras.layers import Embedding, Flatten, Dense, LSTM, Dropout, Bidirectional, Conv1D, MaxPooling1D\n",
        "from keras.utils import to_categorical\n",
        "from sklearn.preprocessing import LabelEncoder\n",
        "from sklearn.metrics import accuracy_score"
      ],
      "metadata": {
        "id": "DjDjb1KDYo8I"
      },
      "execution_count": null,
      "outputs": []
    },
    {
      "cell_type": "code",
      "source": [
        "test_case.tail()"
      ],
      "metadata": {
        "id": "kaFt6zFnSm_C",
        "colab": {
          "base_uri": "https://localhost:8080/",
          "height": 206
        },
        "outputId": "ff315554-421d-4544-f42e-b1dedc099fbf"
      },
      "execution_count": null,
      "outputs": [
        {
          "output_type": "execute_result",
          "data": {
            "text/plain": [
              "       ,user_id,book_id,review_id,review_text,date_added,date_updated,read_at,started_at,n_votes,n_comments\n",
              "843293  The person I do feel most sorry for is Go. She...                                                  \n",
              "843294  Overall, I still think this is a book, if one ...                                                  \n",
              "843295  868869,1e89e6cc6a7c3924c8899957021861b39,11069...                                                  \n",
              "843296  651403,1a694003933611f14bef5b88383907b88,16024...                                                  \n",
              "843297  742558,1c169ccef89607b6d19571e2b65447f83,19383...                                                  "
            ],
            "text/html": [
              "\n",
              "  <div id=\"df-fd05578d-0e6f-4d0e-8d87-7689c6b59ba2\">\n",
              "    <div class=\"colab-df-container\">\n",
              "      <div>\n",
              "<style scoped>\n",
              "    .dataframe tbody tr th:only-of-type {\n",
              "        vertical-align: middle;\n",
              "    }\n",
              "\n",
              "    .dataframe tbody tr th {\n",
              "        vertical-align: top;\n",
              "    }\n",
              "\n",
              "    .dataframe thead th {\n",
              "        text-align: right;\n",
              "    }\n",
              "</style>\n",
              "<table border=\"1\" class=\"dataframe\">\n",
              "  <thead>\n",
              "    <tr style=\"text-align: right;\">\n",
              "      <th></th>\n",
              "      <th>,user_id,book_id,review_id,review_text,date_added,date_updated,read_at,started_at,n_votes,n_comments</th>\n",
              "    </tr>\n",
              "  </thead>\n",
              "  <tbody>\n",
              "    <tr>\n",
              "      <th>843293</th>\n",
              "      <td>The person I do feel most sorry for is Go. She...</td>\n",
              "    </tr>\n",
              "    <tr>\n",
              "      <th>843294</th>\n",
              "      <td>Overall, I still think this is a book, if one ...</td>\n",
              "    </tr>\n",
              "    <tr>\n",
              "      <th>843295</th>\n",
              "      <td>868869,1e89e6cc6a7c3924c8899957021861b39,11069...</td>\n",
              "    </tr>\n",
              "    <tr>\n",
              "      <th>843296</th>\n",
              "      <td>651403,1a694003933611f14bef5b88383907b88,16024...</td>\n",
              "    </tr>\n",
              "    <tr>\n",
              "      <th>843297</th>\n",
              "      <td>742558,1c169ccef89607b6d19571e2b65447f83,19383...</td>\n",
              "    </tr>\n",
              "  </tbody>\n",
              "</table>\n",
              "</div>\n",
              "      <button class=\"colab-df-convert\" onclick=\"convertToInteractive('df-fd05578d-0e6f-4d0e-8d87-7689c6b59ba2')\"\n",
              "              title=\"Convert this dataframe to an interactive table.\"\n",
              "              style=\"display:none;\">\n",
              "        \n",
              "  <svg xmlns=\"http://www.w3.org/2000/svg\" height=\"24px\"viewBox=\"0 0 24 24\"\n",
              "       width=\"24px\">\n",
              "    <path d=\"M0 0h24v24H0V0z\" fill=\"none\"/>\n",
              "    <path d=\"M18.56 5.44l.94 2.06.94-2.06 2.06-.94-2.06-.94-.94-2.06-.94 2.06-2.06.94zm-11 1L8.5 8.5l.94-2.06 2.06-.94-2.06-.94L8.5 2.5l-.94 2.06-2.06.94zm10 10l.94 2.06.94-2.06 2.06-.94-2.06-.94-.94-2.06-.94 2.06-2.06.94z\"/><path d=\"M17.41 7.96l-1.37-1.37c-.4-.4-.92-.59-1.43-.59-.52 0-1.04.2-1.43.59L10.3 9.45l-7.72 7.72c-.78.78-.78 2.05 0 2.83L4 21.41c.39.39.9.59 1.41.59.51 0 1.02-.2 1.41-.59l7.78-7.78 2.81-2.81c.8-.78.8-2.07 0-2.86zM5.41 20L4 18.59l7.72-7.72 1.47 1.35L5.41 20z\"/>\n",
              "  </svg>\n",
              "      </button>\n",
              "      \n",
              "  <style>\n",
              "    .colab-df-container {\n",
              "      display:flex;\n",
              "      flex-wrap:wrap;\n",
              "      gap: 12px;\n",
              "    }\n",
              "\n",
              "    .colab-df-convert {\n",
              "      background-color: #E8F0FE;\n",
              "      border: none;\n",
              "      border-radius: 50%;\n",
              "      cursor: pointer;\n",
              "      display: none;\n",
              "      fill: #1967D2;\n",
              "      height: 32px;\n",
              "      padding: 0 0 0 0;\n",
              "      width: 32px;\n",
              "    }\n",
              "\n",
              "    .colab-df-convert:hover {\n",
              "      background-color: #E2EBFA;\n",
              "      box-shadow: 0px 1px 2px rgba(60, 64, 67, 0.3), 0px 1px 3px 1px rgba(60, 64, 67, 0.15);\n",
              "      fill: #174EA6;\n",
              "    }\n",
              "\n",
              "    [theme=dark] .colab-df-convert {\n",
              "      background-color: #3B4455;\n",
              "      fill: #D2E3FC;\n",
              "    }\n",
              "\n",
              "    [theme=dark] .colab-df-convert:hover {\n",
              "      background-color: #434B5C;\n",
              "      box-shadow: 0px 1px 3px 1px rgba(0, 0, 0, 0.15);\n",
              "      filter: drop-shadow(0px 1px 2px rgba(0, 0, 0, 0.3));\n",
              "      fill: #FFFFFF;\n",
              "    }\n",
              "  </style>\n",
              "\n",
              "      <script>\n",
              "        const buttonEl =\n",
              "          document.querySelector('#df-fd05578d-0e6f-4d0e-8d87-7689c6b59ba2 button.colab-df-convert');\n",
              "        buttonEl.style.display =\n",
              "          google.colab.kernel.accessAllowed ? 'block' : 'none';\n",
              "\n",
              "        async function convertToInteractive(key) {\n",
              "          const element = document.querySelector('#df-fd05578d-0e6f-4d0e-8d87-7689c6b59ba2');\n",
              "          const dataTable =\n",
              "            await google.colab.kernel.invokeFunction('convertToInteractive',\n",
              "                                                     [key], {});\n",
              "          if (!dataTable) return;\n",
              "\n",
              "          const docLinkHtml = 'Like what you see? Visit the ' +\n",
              "            '<a target=\"_blank\" href=https://colab.research.google.com/notebooks/data_table.ipynb>data table notebook</a>'\n",
              "            + ' to learn more about interactive tables.';\n",
              "          element.innerHTML = '';\n",
              "          dataTable['output_type'] = 'display_data';\n",
              "          await google.colab.output.renderOutput(dataTable, element);\n",
              "          const docLink = document.createElement('div');\n",
              "          docLink.innerHTML = docLinkHtml;\n",
              "          element.appendChild(docLink);\n",
              "        }\n",
              "      </script>\n",
              "    </div>\n",
              "  </div>\n",
              "  "
            ]
          },
          "metadata": {},
          "execution_count": 17
        }
      ]
    },
    {
      "cell_type": "markdown",
      "source": [
        "we dont have ratings column in test data"
      ],
      "metadata": {
        "id": "jjozV7CSUQOw"
      }
    },
    {
      "cell_type": "code",
      "source": [
        "df.head()"
      ],
      "metadata": {
        "colab": {
          "base_uri": "https://localhost:8080/",
          "height": 547
        },
        "id": "bav9ZYObS4Rl",
        "outputId": "df74826d-ddc3-4983-d537-f9ef701e515a"
      },
      "execution_count": null,
      "outputs": [
        {
          "output_type": "execute_result",
          "data": {
            "text/plain": [
              "                                                                                                                                            user_id  \\\n",
              "1da3dcc13cf360b9ecb06251e86237535                182091851 1c949b5dedf860514ec8b97ad158c9f4f 5    \"I thought this was a very good historical fan...   \n",
              "1ae436441b6153473ef907aed1006a159                1451461   112ee86a20d7e4308c0a054f8b03128cd 5    \"I've had this book recommended to me more tha...   \n",
              "1aa5e9d859b0c0737f4b99a07edf19c88                13483572  1253729b67f301b75a0f26e85f6d6fb31 5    \"Seriously! You go and throw that twist into t...   \n",
              "1940c22aba67c3d49ccd37891c52c9f51                131585171 1ae0005e94dce0dc5c18d6ae2b4a329ab 4    \"Gosh!!! I'm still not recovering from the eff...   \n",
              " This book was WAY BETTER than the first one!!!  NaN       NaN                               NaN                                               None   \n",
              "\n",
              "                                                                                                                                            book_id  \\\n",
              "1da3dcc13cf360b9ecb06251e86237535                182091851 1c949b5dedf860514ec8b97ad158c9f4f 5                     the plot is more character-based   \n",
              "1ae436441b6153473ef907aed1006a159                1451461   112ee86a20d7e4308c0a054f8b03128cd 5            so I decided to give it a shot. Turns out   \n",
              "1aa5e9d859b0c0737f4b99a07edf19c88                13483572  1253729b67f301b75a0f26e85f6d6fb31 5     happens... Everything is just convulated and ...   \n",
              "1940c22aba67c3d49ccd37891c52c9f51                131585171 1ae0005e94dce0dc5c18d6ae2b4a329ab 4                                                 None   \n",
              " This book was WAY BETTER than the first one!!!  NaN       NaN                               NaN                                               None   \n",
              "\n",
              "                                                                                                                       review_id  \\\n",
              "1da3dcc13cf360b9ecb06251e86237535                182091851 1c949b5dedf860514ec8b97ad158c9f4f 5                          focusing   \n",
              "1ae436441b6153473ef907aed1006a159                1451461   112ee86a20d7e4308c0a054f8b03128cd 5           it was pretty damn good   \n",
              "1aa5e9d859b0c0737f4b99a07edf19c88                13483572  1253729b67f301b75a0f26e85f6d6fb31 5    Wed Oct 10 02:07:19 -0700 2012   \n",
              "1940c22aba67c3d49ccd37891c52c9f51                131585171 1ae0005e94dce0dc5c18d6ae2b4a329ab 4                              None   \n",
              " This book was WAY BETTER than the first one!!!  NaN       NaN                               NaN                            None   \n",
              "\n",
              "                                                                                                                                             rating  \\\n",
              "1da3dcc13cf360b9ecb06251e86237535                182091851 1c949b5dedf860514ec8b97ad158c9f4f 5           with a small cast of supporting characters   \n",
              "1ae436441b6153473ef907aed1006a159                1451461   112ee86a20d7e4308c0a054f8b03128cd 5     although it was suuuuuuuper fucking Catholic ...   \n",
              "1aa5e9d859b0c0737f4b99a07edf19c88                13483572  1253729b67f301b75a0f26e85f6d6fb31 5                       Sat Apr 27 00:40:19 -0700 2013   \n",
              "1940c22aba67c3d49ccd37891c52c9f51                131585171 1ae0005e94dce0dc5c18d6ae2b4a329ab 4                                                 None   \n",
              " This book was WAY BETTER than the first one!!!  NaN       NaN                               NaN                                               None   \n",
              "\n",
              "                                                                                                                                        review_text  \\\n",
              "1da3dcc13cf360b9ecb06251e86237535                182091851 1c949b5dedf860514ec8b97ad158c9f4f 5     on the two characters of a golem and a jinni....   \n",
              "1ae436441b6153473ef907aed1006a159                1451461   112ee86a20d7e4308c0a054f8b03128cd 5                       Sun Nov 08 12:10:16 -0800 2015   \n",
              "1aa5e9d859b0c0737f4b99a07edf19c88                13483572  1253729b67f301b75a0f26e85f6d6fb31 5                       Sat Apr 27 00:40:19 -0700 2013   \n",
              "1940c22aba67c3d49ccd37891c52c9f51                131585171 1ae0005e94dce0dc5c18d6ae2b4a329ab 4                                                 None   \n",
              " This book was WAY BETTER than the first one!!!  NaN       NaN                               NaN                                               None   \n",
              "\n",
              "                                                                                                                      date_added  \\\n",
              "1da3dcc13cf360b9ecb06251e86237535                182091851 1c949b5dedf860514ec8b97ad158c9f4f 5    Fri Feb 01 16:44:16 -0800 2013   \n",
              "1ae436441b6153473ef907aed1006a159                1451461   112ee86a20d7e4308c0a054f8b03128cd 5    Sun Nov 08 12:24:59 -0800 2015   \n",
              "1aa5e9d859b0c0737f4b99a07edf19c88                13483572  1253729b67f301b75a0f26e85f6d6fb31 5    Thu Apr 25 00:00:00 -0700 2013   \n",
              "1940c22aba67c3d49ccd37891c52c9f51                131585171 1ae0005e94dce0dc5c18d6ae2b4a329ab 4                              None   \n",
              " This book was WAY BETTER than the first one!!!  NaN       NaN                               NaN                            None   \n",
              "\n",
              "                                                                                                                    date_updated  \\\n",
              "1da3dcc13cf360b9ecb06251e86237535                182091851 1c949b5dedf860514ec8b97ad158c9f4f 5    Tue Oct 25 18:49:25 -0700 2016   \n",
              "1ae436441b6153473ef907aed1006a159                1451461   112ee86a20d7e4308c0a054f8b03128cd 5    Tue May 05 00:00:00 -0700 2015   \n",
              "1aa5e9d859b0c0737f4b99a07edf19c88                13483572  1253729b67f301b75a0f26e85f6d6fb31 5                                 0   \n",
              "1940c22aba67c3d49ccd37891c52c9f51                131585171 1ae0005e94dce0dc5c18d6ae2b4a329ab 4                              None   \n",
              " This book was WAY BETTER than the first one!!!  NaN       NaN                               NaN                            None   \n",
              "\n",
              "                                                                                                                         read_at  \\\n",
              "1da3dcc13cf360b9ecb06251e86237535                182091851 1c949b5dedf860514ec8b97ad158c9f4f 5    Sat May 04 00:00:00 -0700 2013   \n",
              "1ae436441b6153473ef907aed1006a159                1451461   112ee86a20d7e4308c0a054f8b03128cd 5    Sun May 03 00:00:00 -0700 2015   \n",
              "1aa5e9d859b0c0737f4b99a07edf19c88                13483572  1253729b67f301b75a0f26e85f6d6fb31 5                                 0   \n",
              "1940c22aba67c3d49ccd37891c52c9f51                131585171 1ae0005e94dce0dc5c18d6ae2b4a329ab 4                              None   \n",
              " This book was WAY BETTER than the first one!!!  NaN       NaN                               NaN                            None   \n",
              "\n",
              "                                                                                                                      started_at  \\\n",
              "1da3dcc13cf360b9ecb06251e86237535                182091851 1c949b5dedf860514ec8b97ad158c9f4f 5    Thu Apr 25 00:00:00 -0700 2013   \n",
              "1ae436441b6153473ef907aed1006a159                1451461   112ee86a20d7e4308c0a054f8b03128cd 5                                 0   \n",
              "1aa5e9d859b0c0737f4b99a07edf19c88                13483572  1253729b67f301b75a0f26e85f6d6fb31 5                              None   \n",
              "1940c22aba67c3d49ccd37891c52c9f51                131585171 1ae0005e94dce0dc5c18d6ae2b4a329ab 4                              None   \n",
              " This book was WAY BETTER than the first one!!!  NaN       NaN                               NaN                            None   \n",
              "\n",
              "                                                                                                 n_votes  \\\n",
              "1da3dcc13cf360b9ecb06251e86237535                182091851 1c949b5dedf860514ec8b97ad158c9f4f 5         5   \n",
              "1ae436441b6153473ef907aed1006a159                1451461   112ee86a20d7e4308c0a054f8b03128cd 5         0   \n",
              "1aa5e9d859b0c0737f4b99a07edf19c88                13483572  1253729b67f301b75a0f26e85f6d6fb31 5      None   \n",
              "1940c22aba67c3d49ccd37891c52c9f51                131585171 1ae0005e94dce0dc5c18d6ae2b4a329ab 4      None   \n",
              " This book was WAY BETTER than the first one!!!  NaN       NaN                               NaN    None   \n",
              "\n",
              "                                                                                                 n_comments  \n",
              "1da3dcc13cf360b9ecb06251e86237535                182091851 1c949b5dedf860514ec8b97ad158c9f4f 5            6  \n",
              "1ae436441b6153473ef907aed1006a159                1451461   112ee86a20d7e4308c0a054f8b03128cd 5         None  \n",
              "1aa5e9d859b0c0737f4b99a07edf19c88                13483572  1253729b67f301b75a0f26e85f6d6fb31 5         None  \n",
              "1940c22aba67c3d49ccd37891c52c9f51                131585171 1ae0005e94dce0dc5c18d6ae2b4a329ab 4         None  \n",
              " This book was WAY BETTER than the first one!!!  NaN       NaN                               NaN       None  "
            ],
            "text/html": [
              "\n",
              "  <div id=\"df-e2b42848-bf42-47e0-b10d-6844d143d00c\">\n",
              "    <div class=\"colab-df-container\">\n",
              "      <div>\n",
              "<style scoped>\n",
              "    .dataframe tbody tr th:only-of-type {\n",
              "        vertical-align: middle;\n",
              "    }\n",
              "\n",
              "    .dataframe tbody tr th {\n",
              "        vertical-align: top;\n",
              "    }\n",
              "\n",
              "    .dataframe thead th {\n",
              "        text-align: right;\n",
              "    }\n",
              "</style>\n",
              "<table border=\"1\" class=\"dataframe\">\n",
              "  <thead>\n",
              "    <tr style=\"text-align: right;\">\n",
              "      <th></th>\n",
              "      <th></th>\n",
              "      <th></th>\n",
              "      <th></th>\n",
              "      <th>user_id</th>\n",
              "      <th>book_id</th>\n",
              "      <th>review_id</th>\n",
              "      <th>rating</th>\n",
              "      <th>review_text</th>\n",
              "      <th>date_added</th>\n",
              "      <th>date_updated</th>\n",
              "      <th>read_at</th>\n",
              "      <th>started_at</th>\n",
              "      <th>n_votes</th>\n",
              "      <th>n_comments</th>\n",
              "    </tr>\n",
              "  </thead>\n",
              "  <tbody>\n",
              "    <tr>\n",
              "      <th>1da3dcc13cf360b9ecb06251e86237535</th>\n",
              "      <th>182091851</th>\n",
              "      <th>1c949b5dedf860514ec8b97ad158c9f4f</th>\n",
              "      <th>5</th>\n",
              "      <td>\"I thought this was a very good historical fan...</td>\n",
              "      <td>the plot is more character-based</td>\n",
              "      <td>focusing</td>\n",
              "      <td>with a small cast of supporting characters</td>\n",
              "      <td>on the two characters of a golem and a jinni....</td>\n",
              "      <td>Fri Feb 01 16:44:16 -0800 2013</td>\n",
              "      <td>Tue Oct 25 18:49:25 -0700 2016</td>\n",
              "      <td>Sat May 04 00:00:00 -0700 2013</td>\n",
              "      <td>Thu Apr 25 00:00:00 -0700 2013</td>\n",
              "      <td>5</td>\n",
              "      <td>6</td>\n",
              "    </tr>\n",
              "    <tr>\n",
              "      <th>1ae436441b6153473ef907aed1006a159</th>\n",
              "      <th>1451461</th>\n",
              "      <th>112ee86a20d7e4308c0a054f8b03128cd</th>\n",
              "      <th>5</th>\n",
              "      <td>\"I've had this book recommended to me more tha...</td>\n",
              "      <td>so I decided to give it a shot. Turns out</td>\n",
              "      <td>it was pretty damn good</td>\n",
              "      <td>although it was suuuuuuuper fucking Catholic ...</td>\n",
              "      <td>Sun Nov 08 12:10:16 -0800 2015</td>\n",
              "      <td>Sun Nov 08 12:24:59 -0800 2015</td>\n",
              "      <td>Tue May 05 00:00:00 -0700 2015</td>\n",
              "      <td>Sun May 03 00:00:00 -0700 2015</td>\n",
              "      <td>0</td>\n",
              "      <td>0</td>\n",
              "      <td>None</td>\n",
              "    </tr>\n",
              "    <tr>\n",
              "      <th>1aa5e9d859b0c0737f4b99a07edf19c88</th>\n",
              "      <th>13483572</th>\n",
              "      <th>1253729b67f301b75a0f26e85f6d6fb31</th>\n",
              "      <th>5</th>\n",
              "      <td>\"Seriously! You go and throw that twist into t...</td>\n",
              "      <td>happens... Everything is just convulated and ...</td>\n",
              "      <td>Wed Oct 10 02:07:19 -0700 2012</td>\n",
              "      <td>Sat Apr 27 00:40:19 -0700 2013</td>\n",
              "      <td>Sat Apr 27 00:40:19 -0700 2013</td>\n",
              "      <td>Thu Apr 25 00:00:00 -0700 2013</td>\n",
              "      <td>0</td>\n",
              "      <td>0</td>\n",
              "      <td>None</td>\n",
              "      <td>None</td>\n",
              "      <td>None</td>\n",
              "    </tr>\n",
              "    <tr>\n",
              "      <th>1940c22aba67c3d49ccd37891c52c9f51</th>\n",
              "      <th>131585171</th>\n",
              "      <th>1ae0005e94dce0dc5c18d6ae2b4a329ab</th>\n",
              "      <th>4</th>\n",
              "      <td>\"Gosh!!! I'm still not recovering from the eff...</td>\n",
              "      <td>None</td>\n",
              "      <td>None</td>\n",
              "      <td>None</td>\n",
              "      <td>None</td>\n",
              "      <td>None</td>\n",
              "      <td>None</td>\n",
              "      <td>None</td>\n",
              "      <td>None</td>\n",
              "      <td>None</td>\n",
              "      <td>None</td>\n",
              "    </tr>\n",
              "    <tr>\n",
              "      <th>This book was WAY BETTER than the first one!!!</th>\n",
              "      <th>NaN</th>\n",
              "      <th>NaN</th>\n",
              "      <th>NaN</th>\n",
              "      <td>None</td>\n",
              "      <td>None</td>\n",
              "      <td>None</td>\n",
              "      <td>None</td>\n",
              "      <td>None</td>\n",
              "      <td>None</td>\n",
              "      <td>None</td>\n",
              "      <td>None</td>\n",
              "      <td>None</td>\n",
              "      <td>None</td>\n",
              "      <td>None</td>\n",
              "    </tr>\n",
              "  </tbody>\n",
              "</table>\n",
              "</div>\n",
              "      <button class=\"colab-df-convert\" onclick=\"convertToInteractive('df-e2b42848-bf42-47e0-b10d-6844d143d00c')\"\n",
              "              title=\"Convert this dataframe to an interactive table.\"\n",
              "              style=\"display:none;\">\n",
              "        \n",
              "  <svg xmlns=\"http://www.w3.org/2000/svg\" height=\"24px\"viewBox=\"0 0 24 24\"\n",
              "       width=\"24px\">\n",
              "    <path d=\"M0 0h24v24H0V0z\" fill=\"none\"/>\n",
              "    <path d=\"M18.56 5.44l.94 2.06.94-2.06 2.06-.94-2.06-.94-.94-2.06-.94 2.06-2.06.94zm-11 1L8.5 8.5l.94-2.06 2.06-.94-2.06-.94L8.5 2.5l-.94 2.06-2.06.94zm10 10l.94 2.06.94-2.06 2.06-.94-2.06-.94-.94-2.06-.94 2.06-2.06.94z\"/><path d=\"M17.41 7.96l-1.37-1.37c-.4-.4-.92-.59-1.43-.59-.52 0-1.04.2-1.43.59L10.3 9.45l-7.72 7.72c-.78.78-.78 2.05 0 2.83L4 21.41c.39.39.9.59 1.41.59.51 0 1.02-.2 1.41-.59l7.78-7.78 2.81-2.81c.8-.78.8-2.07 0-2.86zM5.41 20L4 18.59l7.72-7.72 1.47 1.35L5.41 20z\"/>\n",
              "  </svg>\n",
              "      </button>\n",
              "      \n",
              "  <style>\n",
              "    .colab-df-container {\n",
              "      display:flex;\n",
              "      flex-wrap:wrap;\n",
              "      gap: 12px;\n",
              "    }\n",
              "\n",
              "    .colab-df-convert {\n",
              "      background-color: #E8F0FE;\n",
              "      border: none;\n",
              "      border-radius: 50%;\n",
              "      cursor: pointer;\n",
              "      display: none;\n",
              "      fill: #1967D2;\n",
              "      height: 32px;\n",
              "      padding: 0 0 0 0;\n",
              "      width: 32px;\n",
              "    }\n",
              "\n",
              "    .colab-df-convert:hover {\n",
              "      background-color: #E2EBFA;\n",
              "      box-shadow: 0px 1px 2px rgba(60, 64, 67, 0.3), 0px 1px 3px 1px rgba(60, 64, 67, 0.15);\n",
              "      fill: #174EA6;\n",
              "    }\n",
              "\n",
              "    [theme=dark] .colab-df-convert {\n",
              "      background-color: #3B4455;\n",
              "      fill: #D2E3FC;\n",
              "    }\n",
              "\n",
              "    [theme=dark] .colab-df-convert:hover {\n",
              "      background-color: #434B5C;\n",
              "      box-shadow: 0px 1px 3px 1px rgba(0, 0, 0, 0.15);\n",
              "      filter: drop-shadow(0px 1px 2px rgba(0, 0, 0, 0.3));\n",
              "      fill: #FFFFFF;\n",
              "    }\n",
              "  </style>\n",
              "\n",
              "      <script>\n",
              "        const buttonEl =\n",
              "          document.querySelector('#df-e2b42848-bf42-47e0-b10d-6844d143d00c button.colab-df-convert');\n",
              "        buttonEl.style.display =\n",
              "          google.colab.kernel.accessAllowed ? 'block' : 'none';\n",
              "\n",
              "        async function convertToInteractive(key) {\n",
              "          const element = document.querySelector('#df-e2b42848-bf42-47e0-b10d-6844d143d00c');\n",
              "          const dataTable =\n",
              "            await google.colab.kernel.invokeFunction('convertToInteractive',\n",
              "                                                     [key], {});\n",
              "          if (!dataTable) return;\n",
              "\n",
              "          const docLinkHtml = 'Like what you see? Visit the ' +\n",
              "            '<a target=\"_blank\" href=https://colab.research.google.com/notebooks/data_table.ipynb>data table notebook</a>'\n",
              "            + ' to learn more about interactive tables.';\n",
              "          element.innerHTML = '';\n",
              "          dataTable['output_type'] = 'display_data';\n",
              "          await google.colab.output.renderOutput(dataTable, element);\n",
              "          const docLink = document.createElement('div');\n",
              "          docLink.innerHTML = docLinkHtml;\n",
              "          element.appendChild(docLink);\n",
              "        }\n",
              "      </script>\n",
              "    </div>\n",
              "  </div>\n",
              "  "
            ]
          },
          "metadata": {},
          "execution_count": 11
        }
      ]
    },
    {
      "cell_type": "code",
      "source": [
        "test_case.describe().T"
      ],
      "metadata": {
        "colab": {
          "base_uri": "https://localhost:8080/",
          "height": 174
        },
        "id": "Fu8qvP0_TFrR",
        "outputId": "a6180bbf-d752-4364-aab7-ce3f2df656a0"
      },
      "execution_count": null,
      "outputs": [
        {
          "output_type": "execute_result",
          "data": {
            "text/plain": [
              "               count          mean           std   min         25%  \\\n",
              "Unnamed: 0  116230.0  4.484975e+05  2.598592e+05   7.0    223292.0   \n",
              "book_id     116230.0  9.607208e+07  7.256439e+07  11.0  13487397.0   \n",
              "n_votes     116230.0  3.177493e+00  1.533816e+01  -3.0         0.0   \n",
              "n_comments  116230.0  1.013121e+00  6.848858e+00  -1.0         0.0   \n",
              "\n",
              "                    50%          75%          max  \n",
              "Unnamed: 0     447524.0     673778.5     899995.0  \n",
              "book_id     119513323.0  160159892.0  199998081.0  \n",
              "n_votes             0.0          2.0       1156.0  \n",
              "n_comments          0.0          0.0       1335.0  "
            ],
            "text/html": [
              "\n",
              "  <div id=\"df-45f17d86-19af-48fb-a085-7fbd1830ab2b\">\n",
              "    <div class=\"colab-df-container\">\n",
              "      <div>\n",
              "<style scoped>\n",
              "    .dataframe tbody tr th:only-of-type {\n",
              "        vertical-align: middle;\n",
              "    }\n",
              "\n",
              "    .dataframe tbody tr th {\n",
              "        vertical-align: top;\n",
              "    }\n",
              "\n",
              "    .dataframe thead th {\n",
              "        text-align: right;\n",
              "    }\n",
              "</style>\n",
              "<table border=\"1\" class=\"dataframe\">\n",
              "  <thead>\n",
              "    <tr style=\"text-align: right;\">\n",
              "      <th></th>\n",
              "      <th>count</th>\n",
              "      <th>mean</th>\n",
              "      <th>std</th>\n",
              "      <th>min</th>\n",
              "      <th>25%</th>\n",
              "      <th>50%</th>\n",
              "      <th>75%</th>\n",
              "      <th>max</th>\n",
              "    </tr>\n",
              "  </thead>\n",
              "  <tbody>\n",
              "    <tr>\n",
              "      <th>Unnamed: 0</th>\n",
              "      <td>116230.0</td>\n",
              "      <td>4.484975e+05</td>\n",
              "      <td>2.598592e+05</td>\n",
              "      <td>7.0</td>\n",
              "      <td>223292.0</td>\n",
              "      <td>447524.0</td>\n",
              "      <td>673778.5</td>\n",
              "      <td>899995.0</td>\n",
              "    </tr>\n",
              "    <tr>\n",
              "      <th>book_id</th>\n",
              "      <td>116230.0</td>\n",
              "      <td>9.607208e+07</td>\n",
              "      <td>7.256439e+07</td>\n",
              "      <td>11.0</td>\n",
              "      <td>13487397.0</td>\n",
              "      <td>119513323.0</td>\n",
              "      <td>160159892.0</td>\n",
              "      <td>199998081.0</td>\n",
              "    </tr>\n",
              "    <tr>\n",
              "      <th>n_votes</th>\n",
              "      <td>116230.0</td>\n",
              "      <td>3.177493e+00</td>\n",
              "      <td>1.533816e+01</td>\n",
              "      <td>-3.0</td>\n",
              "      <td>0.0</td>\n",
              "      <td>0.0</td>\n",
              "      <td>2.0</td>\n",
              "      <td>1156.0</td>\n",
              "    </tr>\n",
              "    <tr>\n",
              "      <th>n_comments</th>\n",
              "      <td>116230.0</td>\n",
              "      <td>1.013121e+00</td>\n",
              "      <td>6.848858e+00</td>\n",
              "      <td>-1.0</td>\n",
              "      <td>0.0</td>\n",
              "      <td>0.0</td>\n",
              "      <td>0.0</td>\n",
              "      <td>1335.0</td>\n",
              "    </tr>\n",
              "  </tbody>\n",
              "</table>\n",
              "</div>\n",
              "      <button class=\"colab-df-convert\" onclick=\"convertToInteractive('df-45f17d86-19af-48fb-a085-7fbd1830ab2b')\"\n",
              "              title=\"Convert this dataframe to an interactive table.\"\n",
              "              style=\"display:none;\">\n",
              "        \n",
              "  <svg xmlns=\"http://www.w3.org/2000/svg\" height=\"24px\"viewBox=\"0 0 24 24\"\n",
              "       width=\"24px\">\n",
              "    <path d=\"M0 0h24v24H0V0z\" fill=\"none\"/>\n",
              "    <path d=\"M18.56 5.44l.94 2.06.94-2.06 2.06-.94-2.06-.94-.94-2.06-.94 2.06-2.06.94zm-11 1L8.5 8.5l.94-2.06 2.06-.94-2.06-.94L8.5 2.5l-.94 2.06-2.06.94zm10 10l.94 2.06.94-2.06 2.06-.94-2.06-.94-.94-2.06-.94 2.06-2.06.94z\"/><path d=\"M17.41 7.96l-1.37-1.37c-.4-.4-.92-.59-1.43-.59-.52 0-1.04.2-1.43.59L10.3 9.45l-7.72 7.72c-.78.78-.78 2.05 0 2.83L4 21.41c.39.39.9.59 1.41.59.51 0 1.02-.2 1.41-.59l7.78-7.78 2.81-2.81c.8-.78.8-2.07 0-2.86zM5.41 20L4 18.59l7.72-7.72 1.47 1.35L5.41 20z\"/>\n",
              "  </svg>\n",
              "      </button>\n",
              "      \n",
              "  <style>\n",
              "    .colab-df-container {\n",
              "      display:flex;\n",
              "      flex-wrap:wrap;\n",
              "      gap: 12px;\n",
              "    }\n",
              "\n",
              "    .colab-df-convert {\n",
              "      background-color: #E8F0FE;\n",
              "      border: none;\n",
              "      border-radius: 50%;\n",
              "      cursor: pointer;\n",
              "      display: none;\n",
              "      fill: #1967D2;\n",
              "      height: 32px;\n",
              "      padding: 0 0 0 0;\n",
              "      width: 32px;\n",
              "    }\n",
              "\n",
              "    .colab-df-convert:hover {\n",
              "      background-color: #E2EBFA;\n",
              "      box-shadow: 0px 1px 2px rgba(60, 64, 67, 0.3), 0px 1px 3px 1px rgba(60, 64, 67, 0.15);\n",
              "      fill: #174EA6;\n",
              "    }\n",
              "\n",
              "    [theme=dark] .colab-df-convert {\n",
              "      background-color: #3B4455;\n",
              "      fill: #D2E3FC;\n",
              "    }\n",
              "\n",
              "    [theme=dark] .colab-df-convert:hover {\n",
              "      background-color: #434B5C;\n",
              "      box-shadow: 0px 1px 3px 1px rgba(0, 0, 0, 0.15);\n",
              "      filter: drop-shadow(0px 1px 2px rgba(0, 0, 0, 0.3));\n",
              "      fill: #FFFFFF;\n",
              "    }\n",
              "  </style>\n",
              "\n",
              "      <script>\n",
              "        const buttonEl =\n",
              "          document.querySelector('#df-45f17d86-19af-48fb-a085-7fbd1830ab2b button.colab-df-convert');\n",
              "        buttonEl.style.display =\n",
              "          google.colab.kernel.accessAllowed ? 'block' : 'none';\n",
              "\n",
              "        async function convertToInteractive(key) {\n",
              "          const element = document.querySelector('#df-45f17d86-19af-48fb-a085-7fbd1830ab2b');\n",
              "          const dataTable =\n",
              "            await google.colab.kernel.invokeFunction('convertToInteractive',\n",
              "                                                     [key], {});\n",
              "          if (!dataTable) return;\n",
              "\n",
              "          const docLinkHtml = 'Like what you see? Visit the ' +\n",
              "            '<a target=\"_blank\" href=https://colab.research.google.com/notebooks/data_table.ipynb>data table notebook</a>'\n",
              "            + ' to learn more about interactive tables.';\n",
              "          element.innerHTML = '';\n",
              "          dataTable['output_type'] = 'display_data';\n",
              "          await google.colab.output.renderOutput(dataTable, element);\n",
              "          const docLink = document.createElement('div');\n",
              "          docLink.innerHTML = docLinkHtml;\n",
              "          element.appendChild(docLink);\n",
              "        }\n",
              "      </script>\n",
              "    </div>\n",
              "  </div>\n",
              "  "
            ]
          },
          "metadata": {},
          "execution_count": 36
        }
      ]
    },
    {
      "cell_type": "code",
      "source": [
        "sns.relplot(x=\"rating\", y=\"book_id\", data=df, height=7, aspect = 2)"
      ],
      "metadata": {
        "colab": {
          "base_uri": "https://localhost:8080/",
          "height": 609
        },
        "id": "TRe1EKsjTytD",
        "outputId": "e4c96346-3cff-400f-bb73-1706ee116881"
      },
      "execution_count": null,
      "outputs": [
        {
          "output_type": "execute_result",
          "data": {
            "text/plain": [
              "<seaborn.axisgrid.FacetGrid at 0x7fd323d65820>"
            ]
          },
          "metadata": {},
          "execution_count": 37
        },
        {
          "output_type": "display_data",
          "data": {
            "text/plain": [
              "<Figure size 1400x700 with 1 Axes>"
            ],
            "image/png": "[encoded data removed]"
          },
          "metadata": {}
        }
      ]
    },
    {
      "cell_type": "code",
      "source": [
        "df = df[[\"review_id\", \"rating\", \"review_text\"]]"
      ],
      "metadata": {
        "id": "Ki_Ejia7bM6X"
      },
      "execution_count": null,
      "outputs": []
    },
    {
      "cell_type": "code",
      "source": [
        "df = df.dropna()"
      ],
      "metadata": {
        "id": "obMF19swk4_G"
      },
      "execution_count": null,
      "outputs": []
    },
    {
      "cell_type": "code",
      "source": [
        "df[\"split\"] = df.apply(lambda x: \"train\" if random.randrange(0,100) > 10 else \"valid\", axis=1)"
      ],
      "metadata": {
        "id": "9hnJUFWYVie-"
      },
      "execution_count": null,
      "outputs": []
    },
    {
      "cell_type": "code",
      "source": [
        "df[\"split\"].value_counts()"
      ],
      "metadata": {
        "colab": {
          "base_uri": "https://localhost:8080/"
        },
        "id": "LpPkKi1YZnkC",
        "outputId": "b4d41778-513f-4467-ce9c-58382798ffec"
      },
      "execution_count": null,
      "outputs": [
        {
          "output_type": "execute_result",
          "data": {
            "text/plain": [
              "train    107431\n",
              "valid     13187\n",
              "Name: split, dtype: int64"
            ]
          },
          "metadata": {},
          "execution_count": 41
        }
      ]
    },
    {
      "cell_type": "code",
      "source": [
        "df_train = df[df[\"split\"] == \"train\"]\n",
        "df_val = df[df[\"split\"] == \"valid\"]"
      ],
      "metadata": {
        "id": "p-S_cyE1Z19b"
      },
      "execution_count": null,
      "outputs": []
    },
    {
      "cell_type": "code",
      "source": [
        "df_train.head()"
      ],
      "metadata": {
        "colab": {
          "base_uri": "https://localhost:8080/",
          "height": 206
        },
        "id": "paJ0HwvzaBeb",
        "outputId": "721605ef-ba25-4b47-f8d5-cc45aebf277d"
      },
      "execution_count": null,
      "outputs": [
        {
          "output_type": "execute_result",
          "data": {
            "text/plain": [
              "                           review_id  rating  \\\n",
              "0  1c949b5dedf860514ec8b97ad158c9f4f       5   \n",
              "1  112ee86a20d7e4308c0a054f8b03128cd       5   \n",
              "2  1253729b67f301b75a0f26e85f6d6fb31       5   \n",
              "3  1ae0005e94dce0dc5c18d6ae2b4a329ab       4   \n",
              "4  1d8357d2abdcc656635c5459c1feec761       3   \n",
              "\n",
              "                                         review_text  split  \n",
              "0  I thought this was a very good historical fant...  train  \n",
              "1  I've had this book recommended to me more than...  train  \n",
              "2  Seriously! You go and throw that twist into th...  train  \n",
              "3  Gosh!!! I'm still not recovering from the effi...  train  \n",
              "4  3.5 stars rounded down. I can't help it, I jus...  train  "
            ],
            "text/html": [
              "\n",
              "  <div id=\"df-f2465e25-2806-4757-8c10-346577afed81\">\n",
              "    <div class=\"colab-df-container\">\n",
              "      <div>\n",
              "<style scoped>\n",
              "    .dataframe tbody tr th:only-of-type {\n",
              "        vertical-align: middle;\n",
              "    }\n",
              "\n",
              "    .dataframe tbody tr th {\n",
              "        vertical-align: top;\n",
              "    }\n",
              "\n",
              "    .dataframe thead th {\n",
              "        text-align: right;\n",
              "    }\n",
              "</style>\n",
              "<table border=\"1\" class=\"dataframe\">\n",
              "  <thead>\n",
              "    <tr style=\"text-align: right;\">\n",
              "      <th></th>\n",
              "      <th>review_id</th>\n",
              "      <th>rating</th>\n",
              "      <th>review_text</th>\n",
              "      <th>split</th>\n",
              "    </tr>\n",
              "  </thead>\n",
              "  <tbody>\n",
              "    <tr>\n",
              "      <th>0</th>\n",
              "      <td>1c949b5dedf860514ec8b97ad158c9f4f</td>\n",
              "      <td>5</td>\n",
              "      <td>I thought this was a very good historical fant...</td>\n",
              "      <td>train</td>\n",
              "    </tr>\n",
              "    <tr>\n",
              "      <th>1</th>\n",
              "      <td>112ee86a20d7e4308c0a054f8b03128cd</td>\n",
              "      <td>5</td>\n",
              "      <td>I've had this book recommended to me more than...</td>\n",
              "      <td>train</td>\n",
              "    </tr>\n",
              "    <tr>\n",
              "      <th>2</th>\n",
              "      <td>1253729b67f301b75a0f26e85f6d6fb31</td>\n",
              "      <td>5</td>\n",
              "      <td>Seriously! You go and throw that twist into th...</td>\n",
              "      <td>train</td>\n",
              "    </tr>\n",
              "    <tr>\n",
              "      <th>3</th>\n",
              "      <td>1ae0005e94dce0dc5c18d6ae2b4a329ab</td>\n",
              "      <td>4</td>\n",
              "      <td>Gosh!!! I'm still not recovering from the effi...</td>\n",
              "      <td>train</td>\n",
              "    </tr>\n",
              "    <tr>\n",
              "      <th>4</th>\n",
              "      <td>1d8357d2abdcc656635c5459c1feec761</td>\n",
              "      <td>3</td>\n",
              "      <td>3.5 stars rounded down. I can't help it, I jus...</td>\n",
              "      <td>train</td>\n",
              "    </tr>\n",
              "  </tbody>\n",
              "</table>\n",
              "</div>\n",
              "      <button class=\"colab-df-convert\" onclick=\"convertToInteractive('df-f2465e25-2806-4757-8c10-346577afed81')\"\n",
              "              title=\"Convert this dataframe to an interactive table.\"\n",
              "              style=\"display:none;\">\n",
              "        \n",
              "  <svg xmlns=\"http://www.w3.org/2000/svg\" height=\"24px\"viewBox=\"0 0 24 24\"\n",
              "       width=\"24px\">\n",
              "    <path d=\"M0 0h24v24H0V0z\" fill=\"none\"/>\n",
              "    <path d=\"M18.56 5.44l.94 2.06.94-2.06 2.06-.94-2.06-.94-.94-2.06-.94 2.06-2.06.94zm-11 1L8.5 8.5l.94-2.06 2.06-.94-2.06-.94L8.5 2.5l-.94 2.06-2.06.94zm10 10l.94 2.06.94-2.06 2.06-.94-2.06-.94-.94-2.06-.94 2.06-2.06.94z\"/><path d=\"M17.41 7.96l-1.37-1.37c-.4-.4-.92-.59-1.43-.59-.52 0-1.04.2-1.43.59L10.3 9.45l-7.72 7.72c-.78.78-.78 2.05 0 2.83L4 21.41c.39.39.9.59 1.41.59.51 0 1.02-.2 1.41-.59l7.78-7.78 2.81-2.81c.8-.78.8-2.07 0-2.86zM5.41 20L4 18.59l7.72-7.72 1.47 1.35L5.41 20z\"/>\n",
              "  </svg>\n",
              "      </button>\n",
              "      \n",
              "  <style>\n",
              "    .colab-df-container {\n",
              "      display:flex;\n",
              "      flex-wrap:wrap;\n",
              "      gap: 12px;\n",
              "    }\n",
              "\n",
              "    .colab-df-convert {\n",
              "      background-color: #E8F0FE;\n",
              "      border: none;\n",
              "      border-radius: 50%;\n",
              "      cursor: pointer;\n",
              "      display: none;\n",
              "      fill: #1967D2;\n",
              "      height: 32px;\n",
              "      padding: 0 0 0 0;\n",
              "      width: 32px;\n",
              "    }\n",
              "\n",
              "    .colab-df-convert:hover {\n",
              "      background-color: #E2EBFA;\n",
              "      box-shadow: 0px 1px 2px rgba(60, 64, 67, 0.3), 0px 1px 3px 1px rgba(60, 64, 67, 0.15);\n",
              "      fill: #174EA6;\n",
              "    }\n",
              "\n",
              "    [theme=dark] .colab-df-convert {\n",
              "      background-color: #3B4455;\n",
              "      fill: #D2E3FC;\n",
              "    }\n",
              "\n",
              "    [theme=dark] .colab-df-convert:hover {\n",
              "      background-color: #434B5C;\n",
              "      box-shadow: 0px 1px 3px 1px rgba(0, 0, 0, 0.15);\n",
              "      filter: drop-shadow(0px 1px 2px rgba(0, 0, 0, 0.3));\n",
              "      fill: #FFFFFF;\n",
              "    }\n",
              "  </style>\n",
              "\n",
              "      <script>\n",
              "        const buttonEl =\n",
              "          document.querySelector('#df-f2465e25-2806-4757-8c10-346577afed81 button.colab-df-convert');\n",
              "        buttonEl.style.display =\n",
              "          google.colab.kernel.accessAllowed ? 'block' : 'none';\n",
              "\n",
              "        async function convertToInteractive(key) {\n",
              "          const element = document.querySelector('#df-f2465e25-2806-4757-8c10-346577afed81');\n",
              "          const dataTable =\n",
              "            await google.colab.kernel.invokeFunction('convertToInteractive',\n",
              "                                                     [key], {});\n",
              "          if (!dataTable) return;\n",
              "\n",
              "          const docLinkHtml = 'Like what you see? Visit the ' +\n",
              "            '<a target=\"_blank\" href=https://colab.research.google.com/notebooks/data_table.ipynb>data table notebook</a>'\n",
              "            + ' to learn more about interactive tables.';\n",
              "          element.innerHTML = '';\n",
              "          dataTable['output_type'] = 'display_data';\n",
              "          await google.colab.output.renderOutput(dataTable, element);\n",
              "          const docLink = document.createElement('div');\n",
              "          docLink.innerHTML = docLinkHtml;\n",
              "          element.appendChild(docLink);\n",
              "        }\n",
              "      </script>\n",
              "    </div>\n",
              "  </div>\n",
              "  "
            ]
          },
          "metadata": {},
          "execution_count": 43
        }
      ]
    },
    {
      "cell_type": "code",
      "source": [
        "df_val.head()"
      ],
      "metadata": {
        "colab": {
          "base_uri": "https://localhost:8080/",
          "height": 206
        },
        "id": "TAoZg0QhaFE-",
        "outputId": "d14cd533-bd19-4b64-e4c4-75f65181b53d"
      },
      "execution_count": null,
      "outputs": [
        {
          "output_type": "execute_result",
          "data": {
            "text/plain": [
              "                            review_id  rating  \\\n",
              "7   1e8560b7e97bbf63936113938b7ffc4ac       5   \n",
              "10  1ff45f071d8d226e4a5d253107c1ec778       3   \n",
              "30  167af6483e65910912a706ffebb588416       5   \n",
              "37  124bf244f4e4445086d02247da8acb402       3   \n",
              "40  1ab0e8d93caeef0740fd3c10f7b9037a8       5   \n",
              "\n",
              "                                          review_text  split  \n",
              "7   This was such an unexpected read for me. I nev...  valid  \n",
              "10  Really engaging and exciting endings. So much ...  valid  \n",
              "30  Stories based on some of my favorite character...  valid  \n",
              "37  ** spoiler alert ** \\n I wanted to give this b...  valid  \n",
              "40  5 STARS! \\n This series seriously just has the...  valid  "
            ],
            "text/html": [
              "\n",
              "  <div id=\"df-3b5c422d-f4a8-45be-ab8e-82a748c007da\">\n",
              "    <div class=\"colab-df-container\">\n",
              "      <div>\n",
              "<style scoped>\n",
              "    .dataframe tbody tr th:only-of-type {\n",
              "        vertical-align: middle;\n",
              "    }\n",
              "\n",
              "    .dataframe tbody tr th {\n",
              "        vertical-align: top;\n",
              "    }\n",
              "\n",
              "    .dataframe thead th {\n",
              "        text-align: right;\n",
              "    }\n",
              "</style>\n",
              "<table border=\"1\" class=\"dataframe\">\n",
              "  <thead>\n",
              "    <tr style=\"text-align: right;\">\n",
              "      <th></th>\n",
              "      <th>review_id</th>\n",
              "      <th>rating</th>\n",
              "      <th>review_text</th>\n",
              "      <th>split</th>\n",
              "    </tr>\n",
              "  </thead>\n",
              "  <tbody>\n",
              "    <tr>\n",
              "      <th>7</th>\n",
              "      <td>1e8560b7e97bbf63936113938b7ffc4ac</td>\n",
              "      <td>5</td>\n",
              "      <td>This was such an unexpected read for me. I nev...</td>\n",
              "      <td>valid</td>\n",
              "    </tr>\n",
              "    <tr>\n",
              "      <th>10</th>\n",
              "      <td>1ff45f071d8d226e4a5d253107c1ec778</td>\n",
              "      <td>3</td>\n",
              "      <td>Really engaging and exciting endings. So much ...</td>\n",
              "      <td>valid</td>\n",
              "    </tr>\n",
              "    <tr>\n",
              "      <th>30</th>\n",
              "      <td>167af6483e65910912a706ffebb588416</td>\n",
              "      <td>5</td>\n",
              "      <td>Stories based on some of my favorite character...</td>\n",
              "      <td>valid</td>\n",
              "    </tr>\n",
              "    <tr>\n",
              "      <th>37</th>\n",
              "      <td>124bf244f4e4445086d02247da8acb402</td>\n",
              "      <td>3</td>\n",
              "      <td>** spoiler alert ** \\n I wanted to give this b...</td>\n",
              "      <td>valid</td>\n",
              "    </tr>\n",
              "    <tr>\n",
              "      <th>40</th>\n",
              "      <td>1ab0e8d93caeef0740fd3c10f7b9037a8</td>\n",
              "      <td>5</td>\n",
              "      <td>5 STARS! \\n This series seriously just has the...</td>\n",
              "      <td>valid</td>\n",
              "    </tr>\n",
              "  </tbody>\n",
              "</table>\n",
              "</div>\n",
              "      <button class=\"colab-df-convert\" onclick=\"convertToInteractive('df-3b5c422d-f4a8-45be-ab8e-82a748c007da')\"\n",
              "              title=\"Convert this dataframe to an interactive table.\"\n",
              "              style=\"display:none;\">\n",
              "        \n",
              "  <svg xmlns=\"http://www.w3.org/2000/svg\" height=\"24px\"viewBox=\"0 0 24 24\"\n",
              "       width=\"24px\">\n",
              "    <path d=\"M0 0h24v24H0V0z\" fill=\"none\"/>\n",
              "    <path d=\"M18.56 5.44l.94 2.06.94-2.06 2.06-.94-2.06-.94-.94-2.06-.94 2.06-2.06.94zm-11 1L8.5 8.5l.94-2.06 2.06-.94-2.06-.94L8.5 2.5l-.94 2.06-2.06.94zm10 10l.94 2.06.94-2.06 2.06-.94-2.06-.94-.94-2.06-.94 2.06-2.06.94z\"/><path d=\"M17.41 7.96l-1.37-1.37c-.4-.4-.92-.59-1.43-.59-.52 0-1.04.2-1.43.59L10.3 9.45l-7.72 7.72c-.78.78-.78 2.05 0 2.83L4 21.41c.39.39.9.59 1.41.59.51 0 1.02-.2 1.41-.59l7.78-7.78 2.81-2.81c.8-.78.8-2.07 0-2.86zM5.41 20L4 18.59l7.72-7.72 1.47 1.35L5.41 20z\"/>\n",
              "  </svg>\n",
              "      </button>\n",
              "      \n",
              "  <style>\n",
              "    .colab-df-container {\n",
              "      display:flex;\n",
              "      flex-wrap:wrap;\n",
              "      gap: 12px;\n",
              "    }\n",
              "\n",
              "    .colab-df-convert {\n",
              "      background-color: #E8F0FE;\n",
              "      border: none;\n",
              "      border-radius: 50%;\n",
              "      cursor: pointer;\n",
              "      display: none;\n",
              "      fill: #1967D2;\n",
              "      height: 32px;\n",
              "      padding: 0 0 0 0;\n",
              "      width: 32px;\n",
              "    }\n",
              "\n",
              "    .colab-df-convert:hover {\n",
              "      background-color: #E2EBFA;\n",
              "      box-shadow: 0px 1px 2px rgba(60, 64, 67, 0.3), 0px 1px 3px 1px rgba(60, 64, 67, 0.15);\n",
              "      fill: #174EA6;\n",
              "    }\n",
              "\n",
              "    [theme=dark] .colab-df-convert {\n",
              "      background-color: #3B4455;\n",
              "      fill: #D2E3FC;\n",
              "    }\n",
              "\n",
              "    [theme=dark] .colab-df-convert:hover {\n",
              "      background-color: #434B5C;\n",
              "      box-shadow: 0px 1px 3px 1px rgba(0, 0, 0, 0.15);\n",
              "      filter: drop-shadow(0px 1px 2px rgba(0, 0, 0, 0.3));\n",
              "      fill: #FFFFFF;\n",
              "    }\n",
              "  </style>\n",
              "\n",
              "      <script>\n",
              "        const buttonEl =\n",
              "          document.querySelector('#df-3b5c422d-f4a8-45be-ab8e-82a748c007da button.colab-df-convert');\n",
              "        buttonEl.style.display =\n",
              "          google.colab.kernel.accessAllowed ? 'block' : 'none';\n",
              "\n",
              "        async function convertToInteractive(key) {\n",
              "          const element = document.querySelector('#df-3b5c422d-f4a8-45be-ab8e-82a748c007da');\n",
              "          const dataTable =\n",
              "            await google.colab.kernel.invokeFunction('convertToInteractive',\n",
              "                                                     [key], {});\n",
              "          if (!dataTable) return;\n",
              "\n",
              "          const docLinkHtml = 'Like what you see? Visit the ' +\n",
              "            '<a target=\"_blank\" href=https://colab.research.google.com/notebooks/data_table.ipynb>data table notebook</a>'\n",
              "            + ' to learn more about interactive tables.';\n",
              "          element.innerHTML = '';\n",
              "          dataTable['output_type'] = 'display_data';\n",
              "          await google.colab.output.renderOutput(dataTable, element);\n",
              "          const docLink = document.createElement('div');\n",
              "          docLink.innerHTML = docLinkHtml;\n",
              "          element.appendChild(docLink);\n",
              "        }\n",
              "      </script>\n",
              "    </div>\n",
              "  </div>\n",
              "  "
            ]
          },
          "metadata": {},
          "execution_count": 44
        }
      ]
    },
    {
      "cell_type": "markdown",
      "source": [
        "First, an instance of the Tokenizer class is created and initialized with a special out-of-vocabulary (oov) token, represented by the string \"'oov'\". This token will be used to replace any words that are not found in the tokenizer's vocabulary during text encoding.\n",
        "\n",
        "Next, the fit_on_texts() method of the Tokenizer class is called, with the input being the 'Review' column of the 'df_train' DataFrame. This method updates the tokenizer's internal vocabulary based on the input text, assigning a unique integer index to each word in the text. The vocabulary is constructed by tokenizing the text, i.e., splitting it into individual words, and then counting the frequency of each unique word.\n",
        "\n",
        "Overall, the purpose of the code is to preprocess text data in preparation for use in a machine learning model. Specifically, the Tokenizer is used to convert the text data into a numerical representation that can be fed into a neural network. The oov token ensures that any previously unseen words are not completely ignored during the encoding process."
      ],
      "metadata": {
        "id": "jzfL33Lngreh"
      }
    },
    {
      "cell_type": "code",
      "source": [
        "tokenizer=Tokenizer(oov_token=\"'oov'\")\n",
        "tokenizer.fit_on_texts(df_train['review_text'])"
      ],
      "metadata": {
        "id": "8xOOHyiPcSNU"
      },
      "execution_count": null,
      "outputs": []
    },
    {
      "cell_type": "code",
      "source": [
        "maxlen = 300\n",
        "train_X = pad_sequences(tokenizer.texts_to_sequences(df_train['review_text']), maxlen=maxlen)\n",
        "val_X = pad_sequences(tokenizer.texts_to_sequences(df_val['review_text']), maxlen=maxlen)"
      ],
      "metadata": {
        "id": "XvySoeUHe4zE"
      },
      "execution_count": null,
      "outputs": []
    },
    {
      "cell_type": "code",
      "source": [
        "df_train[\"rating\"].isnull().sum()"
      ],
      "metadata": {
        "colab": {
          "base_uri": "https://localhost:8080/"
        },
        "id": "eIpBXauSkJ96",
        "outputId": "f990bffb-f145-401a-87d0-5438d3291cf5"
      },
      "execution_count": null,
      "outputs": [
        {
          "output_type": "execute_result",
          "data": {
            "text/plain": [
              "0"
            ]
          },
          "metadata": {},
          "execution_count": 48
        }
      ]
    },
    {
      "cell_type": "code",
      "source": [
        "df_val[\"rating\"].isnull().sum()"
      ],
      "metadata": {
        "colab": {
          "base_uri": "https://localhost:8080/"
        },
        "id": "EOadC-LFkqk_",
        "outputId": "c63a9e52-cf08-48ac-de89-45085d1d20ed"
      },
      "execution_count": null,
      "outputs": [
        {
          "output_type": "execute_result",
          "data": {
            "text/plain": [
              "0"
            ]
          },
          "metadata": {},
          "execution_count": 49
        }
      ]
    },
    {
      "cell_type": "code",
      "source": [
        "train_Y = df_train[\"rating\"]\n",
        "val_Y = df_val[\"rating\"]\n",
        "train_Y_cat = to_categorical(df_train[\"rating\"]-1, num_classes=5)\n",
        "val_Y_cat = to_categorical(df_val[\"rating\"]-1, num_classes=5)"
      ],
      "metadata": {
        "id": "ZE_v1lOPhFmA"
      },
      "execution_count": null,
      "outputs": []
    },
    {
      "cell_type": "code",
      "source": [
        "\n",
        "\n",
        "embedding_index = {}\n",
        "f = open('/content/glove.6B.100d.txt',encoding='utf8')\n",
        "for line in f:\n",
        "    values = line.split()\n",
        "    word = values[0]\n",
        "    coefs = np.asarray(values[1:],dtype='float32')\n",
        "    embedding_index[word] = coefs\n",
        "f.close()\n",
        "print('Found %s word vectors ' % len(embedding_index))"
      ],
      "metadata": {
        "colab": {
          "base_uri": "https://localhost:8080/"
        },
        "id": "GdzawqTchf6G",
        "outputId": "f513af29-15f2-49f3-dbc2-f53a890c45fe"
      },
      "execution_count": null,
      "outputs": [
        {
          "output_type": "stream",
          "name": "stdout",
          "text": [
            "Found 190883 word vectors \n"
          ]
        }
      ]
    },
    {
      "cell_type": "code",
      "source": [
        "max_words = len(tokenizer.word_index) + 1\n",
        "embedding_dim = 100\n",
        "embedding_matrix = np.zeros((max_words,embedding_dim))\n",
        "\n",
        "for word, idx in tokenizer.word_index.items():\n",
        "    embedding_vector = embedding_index.get(word)\n",
        "    if embedding_vector is not None:\n",
        "        embedding_matrix[idx]=embedding_vector"
      ],
      "metadata": {
        "id": "MGQ5dpZ5mzww"
      },
      "execution_count": null,
      "outputs": []
    },
    {
      "cell_type": "code",
      "source": [
        "print(embedding_matrix)"
      ],
      "metadata": {
        "colab": {
          "base_uri": "https://localhost:8080/"
        },
        "id": "KSmfvOOjE22J",
        "outputId": "2d14d562-01aa-4216-c61c-451d7a5c570c"
      },
      "execution_count": null,
      "outputs": [
        {
          "output_type": "stream",
          "name": "stdout",
          "text": [
            "[[ 0.          0.          0.         ...  0.          0.\n",
            "   0.        ]\n",
            " [ 0.          0.          0.         ...  0.          0.\n",
            "   0.        ]\n",
            " [ 0.41800001  0.24968    -0.41242    ... -0.18411    -0.11514\n",
            "  -0.78580999]\n",
            " ...\n",
            " [ 0.          0.          0.         ...  0.          0.\n",
            "   0.        ]\n",
            " [ 0.62581003 -1.34350002  0.11425    ...  0.29356    -0.82802999\n",
            "   0.12331   ]\n",
            " [ 0.          0.          0.         ...  0.          0.\n",
            "   0.        ]]\n"
          ]
        }
      ]
    },
    {
      "cell_type": "code",
      "source": [
        "model=Sequential()\n",
        "model.add(Embedding(max_words, embedding_dim, input_length=maxlen, weights=[embedding_matrix], trainable=False))\n",
        "model.add(Bidirectional(LSTM(32)))\n",
        "model.add(Dense(16, activation=\"relu\"))\n",
        "model.add(Dense(1, activation=\"linear\"))\n",
        "model.compile(optimizer=\"Adam\", loss='mean_squared_error', metrics=['mse'])\n",
        "print(model.summary())"
      ],
      "metadata": {
        "id": "kgF1o1eU5Vdu",
        "colab": {
          "base_uri": "https://localhost:8080/"
        },
        "outputId": "7b631801-6825-4ea6-9023-3af1644dd9a0"
      },
      "execution_count": null,
      "outputs": [
        {
          "output_type": "stream",
          "name": "stdout",
          "text": [
            "Model: \"sequential\"\n",
            "_________________________________________________________________\n",
            " Layer (type)                Output Shape              Param #   \n",
            "=================================================================\n",
            " embedding (Embedding)       (None, 300, 100)          12772500  \n",
            "                                                                 \n",
            " bidirectional (Bidirectiona  (None, 64)               34048     \n",
            " l)                                                              \n",
            "                                                                 \n",
            " dense (Dense)               (None, 16)                1040      \n",
            "                                                                 \n",
            " dense_1 (Dense)             (None, 1)                 17        \n",
            "                                                                 \n",
            "=================================================================\n",
            "Total params: 12,807,605\n",
            "Trainable params: 35,105\n",
            "Non-trainable params: 12,772,500\n",
            "_________________________________________________________________\n",
            "None\n"
          ]
        }
      ]
    },
    {
      "cell_type": "code",
      "source": [
        "model.fit(train_X, train_Y, epochs=20, batch_size=256, validation_data=(val_X, val_Y))"
      ],
      "metadata": {
        "colab": {
          "base_uri": "https://localhost:8080/"
        },
        "id": "tyd0cfR7CGzR",
        "outputId": "2161efea-d437-4730-b1b2-e527bb80a498"
      },
      "execution_count": null,
      "outputs": [
        {
          "output_type": "stream",
          "name": "stdout",
          "text": [
            "Epoch 1/20\n",
            "420/420 [==============================] - 21s 27ms/step - loss: 1.7163 - mse: 1.7163 - val_loss: 1.2595 - val_mse: 1.2595\n",
            "Epoch 2/20\n",
            "420/420 [==============================] - 10s 23ms/step - loss: 1.0918 - mse: 1.0918 - val_loss: 1.0224 - val_mse: 1.0224\n",
            "Epoch 3/20\n",
            "420/420 [==============================] - 10s 24ms/step - loss: 0.9973 - mse: 0.9973 - val_loss: 0.9673 - val_mse: 0.9673\n",
            "Epoch 4/20\n",
            "420/420 [==============================] - 11s 26ms/step - loss: 0.9443 - mse: 0.9443 - val_loss: 0.9296 - val_mse: 0.9296\n",
            "Epoch 5/20\n",
            "420/420 [==============================] - 10s 24ms/step - loss: 0.9135 - mse: 0.9135 - val_loss: 0.9190 - val_mse: 0.9190\n",
            "Epoch 6/20\n",
            "420/420 [==============================] - 10s 24ms/step - loss: 0.8931 - mse: 0.8931 - val_loss: 0.8969 - val_mse: 0.8969\n",
            "Epoch 7/20\n",
            "420/420 [==============================] - 10s 25ms/step - loss: 0.8743 - mse: 0.8743 - val_loss: 0.8861 - val_mse: 0.8861\n",
            "Epoch 8/20\n",
            "420/420 [==============================] - 10s 23ms/step - loss: 0.8598 - mse: 0.8598 - val_loss: 0.8694 - val_mse: 0.8694\n",
            "Epoch 9/20\n",
            "420/420 [==============================] - 10s 24ms/step - loss: 0.8416 - mse: 0.8416 - val_loss: 0.8541 - val_mse: 0.8541\n",
            "Epoch 10/20\n",
            "420/420 [==============================] - 10s 24ms/step - loss: 0.8299 - mse: 0.8299 - val_loss: 0.8593 - val_mse: 0.8593\n",
            "Epoch 11/20\n",
            "420/420 [==============================] - 10s 24ms/step - loss: 0.8148 - mse: 0.8148 - val_loss: 0.8384 - val_mse: 0.8384\n",
            "Epoch 12/20\n",
            "420/420 [==============================] - 10s 24ms/step - loss: 0.8004 - mse: 0.8004 - val_loss: 0.8332 - val_mse: 0.8332\n",
            "Epoch 13/20\n",
            "420/420 [==============================] - 10s 24ms/step - loss: 0.7903 - mse: 0.7903 - val_loss: 0.8311 - val_mse: 0.8311\n",
            "Epoch 14/20\n",
            "420/420 [==============================] - 10s 24ms/step - loss: 0.7792 - mse: 0.7792 - val_loss: 0.8240 - val_mse: 0.8240\n",
            "Epoch 15/20\n",
            "420/420 [==============================] - 10s 24ms/step - loss: 0.7713 - mse: 0.7713 - val_loss: 0.8411 - val_mse: 0.8411\n",
            "Epoch 16/20\n",
            "420/420 [==============================] - 10s 24ms/step - loss: 0.7575 - mse: 0.7575 - val_loss: 0.8487 - val_mse: 0.8487\n",
            "Epoch 17/20\n",
            "420/420 [==============================] - 10s 24ms/step - loss: 0.7529 - mse: 0.7529 - val_loss: 0.8218 - val_mse: 0.8218\n",
            "Epoch 18/20\n",
            "420/420 [==============================] - 10s 24ms/step - loss: 0.7394 - mse: 0.7394 - val_loss: 0.8174 - val_mse: 0.8174\n",
            "Epoch 19/20\n",
            "420/420 [==============================] - 10s 23ms/step - loss: 0.7332 - mse: 0.7332 - val_loss: 0.8121 - val_mse: 0.8121\n",
            "Epoch 20/20\n",
            "420/420 [==============================] - 10s 24ms/step - loss: 0.7201 - mse: 0.7201 - val_loss: 0.8070 - val_mse: 0.8070\n"
          ]
        },
        {
          "output_type": "execute_result",
          "data": {
            "text/plain": [
              "<keras.callbacks.History at 0x7fd2a01adeb0>"
            ]
          },
          "metadata": {},
          "execution_count": 55
        }
      ]
    },
    {
      "cell_type": "code",
      "source": [
        "pred = model.predict(val_X)"
      ],
      "metadata": {
        "colab": {
          "base_uri": "https://localhost:8080/"
        },
        "id": "N4WI5z8rCPtZ",
        "outputId": "5eaa615c-70a5-4561-c7fb-29868fc6b3a7"
      },
      "execution_count": null,
      "outputs": [
        {
          "output_type": "stream",
          "name": "stdout",
          "text": [
            "413/413 [==============================] - 4s 9ms/step\n"
          ]
        }
      ]
    },
    {
      "cell_type": "code",
      "source": [
        "pred_hard = np.array([round(p[0]) for p in pred])"
      ],
      "metadata": {
        "id": "AZXHcwPJCro6"
      },
      "execution_count": null,
      "outputs": []
    },
    {
      "cell_type": "code",
      "source": [
        "pred_hard[pred_hard < 1] = 1\n",
        "pred_hard[pred_hard > 5] = 5"
      ],
      "metadata": {
        "id": "O8dZRgSxCvJJ"
      },
      "execution_count": null,
      "outputs": []
    },
    {
      "cell_type": "code",
      "source": [
        "np.unique(pred_hard)"
      ],
      "metadata": {
        "colab": {
          "base_uri": "https://localhost:8080/"
        },
        "id": "sxDHw6BJCyfg",
        "outputId": "758dd892-7366-4b41-cf3d-c5defb98207a"
      },
      "execution_count": null,
      "outputs": [
        {
          "output_type": "execute_result",
          "data": {
            "text/plain": [
              "array([1, 2, 3, 4, 5])"
            ]
          },
          "metadata": {},
          "execution_count": 59
        }
      ]
    },
    {
      "cell_type": "code",
      "source": [
        "accuracy_score(val_Y, pred_hard)"
      ],
      "metadata": {
        "colab": {
          "base_uri": "https://localhost:8080/"
        },
        "id": "4HGsc7Y0C1I1",
        "outputId": "bcf3e291-0bcb-41bc-d543-b52aa5ad26cc"
      },
      "execution_count": null,
      "outputs": [
        {
          "output_type": "execute_result",
          "data": {
            "text/plain": [
              "0.4725866383559566"
            ]
          },
          "metadata": {},
          "execution_count": 61
        }
      ]
    },
    {
      "cell_type": "code",
      "source": [
        "print(val_X)"
      ],
      "metadata": {
        "colab": {
          "base_uri": "https://localhost:8080/"
        },
        "id": "NUcHe0ufI2GK",
        "outputId": "5454450f-a107-4a8d-be0e-a5f65f859b24"
      },
      "execution_count": null,
      "outputs": [
        {
          "output_type": "stream",
          "name": "stdout",
          "text": [
            "[[     0      0      0 ...     14 202338    977]\n",
            " [     0      0      0 ...     12    353  11407]\n",
            " [     0      0      0 ...      6    927    347]\n",
            " ...\n",
            " [     0      0      0 ...      9     34     35]\n",
            " [     0      0      0 ...    280   6402  25015]\n",
            " [     0      0      0 ...  24575      3  16972]]\n"
          ]
        }
      ]
    },
    {
      "cell_type": "code",
      "source": [
        "final_pred = pad_sequences(tokenizer.texts_to_sequences(test_case['review_text']), maxlen=maxlen)"
      ],
      "metadata": {
        "id": "-rIFdo7sJGEo"
      },
      "execution_count": null,
      "outputs": []
    },
    {
      "cell_type": "code",
      "source": [
        "predictions = model.predict(final_pred)"
      ],
      "metadata": {
        "colab": {
          "base_uri": "https://localhost:8080/"
        },
        "id": "FEP_q1WZENIF",
        "outputId": "347163cc-2d5d-4d5c-bf88-613f3b6e85af"
      },
      "execution_count": null,
      "outputs": [
        {
          "output_type": "stream",
          "name": "stdout",
          "text": [
            "3633/3633 [==============================] - 28s 8ms/step\n"
          ]
        }
      ]
    },
    {
      "cell_type": "code",
      "source": [
        "len(predictions)"
      ],
      "metadata": {
        "colab": {
          "base_uri": "https://localhost:8080/"
        },
        "id": "EV1PCmGXJ-Fe",
        "outputId": "27361189-0356-4ef4-e847-f42629958a8d"
      },
      "execution_count": null,
      "outputs": [
        {
          "output_type": "execute_result",
          "data": {
            "text/plain": [
              "116230"
            ]
          },
          "metadata": {},
          "execution_count": 64
        }
      ]
    },
    {
      "cell_type": "code",
      "source": [
        "len(test_case['review_id'])"
      ],
      "metadata": {
        "colab": {
          "base_uri": "https://localhost:8080/"
        },
        "id": "CbpbH3mDKglE",
        "outputId": "3b42cb05-1043-444c-de60-984120a400cb"
      },
      "execution_count": null,
      "outputs": [
        {
          "output_type": "execute_result",
          "data": {
            "text/plain": [
              "200000"
            ]
          },
          "metadata": {},
          "execution_count": 122
        }
      ]
    },
    {
      "cell_type": "code",
      "source": [
        "print(test_case['review_id'])"
      ],
      "metadata": {
        "colab": {
          "base_uri": "https://localhost:8080/"
        },
        "id": "pxo9_j5ELAtv",
        "outputId": "55cc3a3d-0906-45a1-ca61-51da25111542"
      },
      "execution_count": null,
      "outputs": [
        {
          "output_type": "stream",
          "name": "stdout",
          "text": [
            "0         16c32b9bb0142734c60f8b028f281c5dd\n",
            "1         1f86ec340856f1097c922d33aed48d4ea\n",
            "2         14a20b34f27611e45bd75e24de6a06324\n",
            "3         1b2e5b069e4f440d152ae6d48e3f111ac\n",
            "4         132aec4dfb13a2f8032a7431023dd728f\n",
            "                        ...                \n",
            "199995    1e65b0ab60fb0fc5361da7c3a7a45bc2a\n",
            "199996    176c31b9581191138cc477b0df2f82b09\n",
            "199997    17af2bb1902e2b7f6a5004e7bbe285139\n",
            "199998    1e13fa3ce7e49dfd190bd0a02c36efe61\n",
            "199999    15f7e3747bb4b66f81c14a42a8d6e2403\n",
            "Name: review_id, Length: 200000, dtype: object\n"
          ]
        }
      ]
    },
    {
      "cell_type": "code",
      "source": [
        "print(predictions.T)"
      ],
      "metadata": {
        "colab": {
          "base_uri": "https://localhost:8080/"
        },
        "id": "y8kBGjKuLGbd",
        "outputId": "c07d11fb-1462-48a7-ce30-0e4e730939d0"
      },
      "execution_count": null,
      "outputs": [
        {
          "output_type": "stream",
          "name": "stdout",
          "text": [
            "[3 4 4 ... 3 3 3]\n"
          ]
        }
      ]
    },
    {
      "cell_type": "code",
      "source": [
        "test_case['review_id'].shape"
      ],
      "metadata": {
        "colab": {
          "base_uri": "https://localhost:8080/"
        },
        "id": "Xpf5n9AqLlVt",
        "outputId": "6e3aba29-5783-4a2e-a969-aaa72f8f2095"
      },
      "execution_count": null,
      "outputs": [
        {
          "output_type": "execute_result",
          "data": {
            "text/plain": [
              "(200000,)"
            ]
          },
          "metadata": {},
          "execution_count": 130
        }
      ]
    },
    {
      "cell_type": "code",
      "source": [
        "predictions.shape"
      ],
      "metadata": {
        "colab": {
          "base_uri": "https://localhost:8080/"
        },
        "id": "x4DkNSpULVfs",
        "outputId": "63b9b167-ca14-4e1f-835a-d4d27d5d3752"
      },
      "execution_count": null,
      "outputs": [
        {
          "output_type": "execute_result",
          "data": {
            "text/plain": [
              "(200000,)"
            ]
          },
          "metadata": {},
          "execution_count": 132
        }
      ]
    },
    {
      "cell_type": "code",
      "source": [
        "predictions = np.squeeze(predictions)\n"
      ],
      "metadata": {
        "id": "XcS8AeWmL9c1"
      },
      "execution_count": null,
      "outputs": []
    },
    {
      "cell_type": "code",
      "source": [
        "predictions = predictions.astype(int)"
      ],
      "metadata": {
        "id": "kE-msoduMiwS"
      },
      "execution_count": null,
      "outputs": []
    },
    {
      "cell_type": "code",
      "source": [
        "# Add 'Id' column to the predictions dataframe\n",
        "predictions_df = pd.DataFrame({'review_id': test_case['review_id'], 'rating':predictions})\n",
        "\n",
        "# Write the dataframe to a CSV file\n",
        "predictions_df.to_csv(\"1st_try.csv\", index=False)"
      ],
      "metadata": {
        "id": "Jd2Tgc_jEPn6"
      },
      "execution_count": null,
      "outputs": []
    },
    {
      "cell_type": "code",
      "source": [
        "ab = pd.read_csv('/content/1st_try.csv')"
      ],
      "metadata": {
        "id": "htKVSW5iJyAn"
      },
      "execution_count": null,
      "outputs": []
    },
    {
      "cell_type": "code",
      "source": [
        "ab.tail()"
      ],
      "metadata": {
        "colab": {
          "base_uri": "https://localhost:8080/",
          "height": 206
        },
        "id": "czHUFxs6RauL",
        "outputId": "cf1a093f-7801-40cb-c29e-338bc64e4e9d"
      },
      "execution_count": null,
      "outputs": [
        {
          "output_type": "execute_result",
          "data": {
            "text/plain": [
              "                                review_id  rating\n",
              "199995  1e65b0ab60fb0fc5361da7c3a7a45bc2a       4\n",
              "199996  176c31b9581191138cc477b0df2f82b09       4\n",
              "199997  17af2bb1902e2b7f6a5004e7bbe285139       4\n",
              "199998  1e13fa3ce7e49dfd190bd0a02c36efe61       4\n",
              "199999  15f7e3747bb4b66f81c14a42a8d6e2403       3"
            ],
            "text/html": [
              "\n",
              "  <div id=\"df-875db801-a1bd-42d3-9d7b-ba46e213d93e\">\n",
              "    <div class=\"colab-df-container\">\n",
              "      <div>\n",
              "<style scoped>\n",
              "    .dataframe tbody tr th:only-of-type {\n",
              "        vertical-align: middle;\n",
              "    }\n",
              "\n",
              "    .dataframe tbody tr th {\n",
              "        vertical-align: top;\n",
              "    }\n",
              "\n",
              "    .dataframe thead th {\n",
              "        text-align: right;\n",
              "    }\n",
              "</style>\n",
              "<table border=\"1\" class=\"dataframe\">\n",
              "  <thead>\n",
              "    <tr style=\"text-align: right;\">\n",
              "      <th></th>\n",
              "      <th>review_id</th>\n",
              "      <th>rating</th>\n",
              "    </tr>\n",
              "  </thead>\n",
              "  <tbody>\n",
              "    <tr>\n",
              "      <th>199995</th>\n",
              "      <td>1e65b0ab60fb0fc5361da7c3a7a45bc2a</td>\n",
              "      <td>4</td>\n",
              "    </tr>\n",
              "    <tr>\n",
              "      <th>199996</th>\n",
              "      <td>176c31b9581191138cc477b0df2f82b09</td>\n",
              "      <td>4</td>\n",
              "    </tr>\n",
              "    <tr>\n",
              "      <th>199997</th>\n",
              "      <td>17af2bb1902e2b7f6a5004e7bbe285139</td>\n",
              "      <td>4</td>\n",
              "    </tr>\n",
              "    <tr>\n",
              "      <th>199998</th>\n",
              "      <td>1e13fa3ce7e49dfd190bd0a02c36efe61</td>\n",
              "      <td>4</td>\n",
              "    </tr>\n",
              "    <tr>\n",
              "      <th>199999</th>\n",
              "      <td>15f7e3747bb4b66f81c14a42a8d6e2403</td>\n",
              "      <td>3</td>\n",
              "    </tr>\n",
              "  </tbody>\n",
              "</table>\n",
              "</div>\n",
              "      <button class=\"colab-df-convert\" onclick=\"convertToInteractive('df-875db801-a1bd-42d3-9d7b-ba46e213d93e')\"\n",
              "              title=\"Convert this dataframe to an interactive table.\"\n",
              "              style=\"display:none;\">\n",
              "        \n",
              "  <svg xmlns=\"http://www.w3.org/2000/svg\" height=\"24px\"viewBox=\"0 0 24 24\"\n",
              "       width=\"24px\">\n",
              "    <path d=\"M0 0h24v24H0V0z\" fill=\"none\"/>\n",
              "    <path d=\"M18.56 5.44l.94 2.06.94-2.06 2.06-.94-2.06-.94-.94-2.06-.94 2.06-2.06.94zm-11 1L8.5 8.5l.94-2.06 2.06-.94-2.06-.94L8.5 2.5l-.94 2.06-2.06.94zm10 10l.94 2.06.94-2.06 2.06-.94-2.06-.94-.94-2.06-.94 2.06-2.06.94z\"/><path d=\"M17.41 7.96l-1.37-1.37c-.4-.4-.92-.59-1.43-.59-.52 0-1.04.2-1.43.59L10.3 9.45l-7.72 7.72c-.78.78-.78 2.05 0 2.83L4 21.41c.39.39.9.59 1.41.59.51 0 1.02-.2 1.41-.59l7.78-7.78 2.81-2.81c.8-.78.8-2.07 0-2.86zM5.41 20L4 18.59l7.72-7.72 1.47 1.35L5.41 20z\"/>\n",
              "  </svg>\n",
              "      </button>\n",
              "      \n",
              "  <style>\n",
              "    .colab-df-container {\n",
              "      display:flex;\n",
              "      flex-wrap:wrap;\n",
              "      gap: 12px;\n",
              "    }\n",
              "\n",
              "    .colab-df-convert {\n",
              "      background-color: #E8F0FE;\n",
              "      border: none;\n",
              "      border-radius: 50%;\n",
              "      cursor: pointer;\n",
              "      display: none;\n",
              "      fill: #1967D2;\n",
              "      height: 32px;\n",
              "      padding: 0 0 0 0;\n",
              "      width: 32px;\n",
              "    }\n",
              "\n",
              "    .colab-df-convert:hover {\n",
              "      background-color: #E2EBFA;\n",
              "      box-shadow: 0px 1px 2px rgba(60, 64, 67, 0.3), 0px 1px 3px 1px rgba(60, 64, 67, 0.15);\n",
              "      fill: #174EA6;\n",
              "    }\n",
              "\n",
              "    [theme=dark] .colab-df-convert {\n",
              "      background-color: #3B4455;\n",
              "      fill: #D2E3FC;\n",
              "    }\n",
              "\n",
              "    [theme=dark] .colab-df-convert:hover {\n",
              "      background-color: #434B5C;\n",
              "      box-shadow: 0px 1px 3px 1px rgba(0, 0, 0, 0.15);\n",
              "      filter: drop-shadow(0px 1px 2px rgba(0, 0, 0, 0.3));\n",
              "      fill: #FFFFFF;\n",
              "    }\n",
              "  </style>\n",
              "\n",
              "      <script>\n",
              "        const buttonEl =\n",
              "          document.querySelector('#df-875db801-a1bd-42d3-9d7b-ba46e213d93e button.colab-df-convert');\n",
              "        buttonEl.style.display =\n",
              "          google.colab.kernel.accessAllowed ? 'block' : 'none';\n",
              "\n",
              "        async function convertToInteractive(key) {\n",
              "          const element = document.querySelector('#df-875db801-a1bd-42d3-9d7b-ba46e213d93e');\n",
              "          const dataTable =\n",
              "            await google.colab.kernel.invokeFunction('convertToInteractive',\n",
              "                                                     [key], {});\n",
              "          if (!dataTable) return;\n",
              "\n",
              "          const docLinkHtml = 'Like what you see? Visit the ' +\n",
              "            '<a target=\"_blank\" href=https://colab.research.google.com/notebooks/data_table.ipynb>data table notebook</a>'\n",
              "            + ' to learn more about interactive tables.';\n",
              "          element.innerHTML = '';\n",
              "          dataTable['output_type'] = 'display_data';\n",
              "          await google.colab.output.renderOutput(dataTable, element);\n",
              "          const docLink = document.createElement('div');\n",
              "          docLink.innerHTML = docLinkHtml;\n",
              "          element.appendChild(docLink);\n",
              "        }\n",
              "      </script>\n",
              "    </div>\n",
              "  </div>\n",
              "  "
            ]
          },
          "metadata": {},
          "execution_count": 11
        }
      ]
    },
    {
      "cell_type": "code",
      "source": [
        "ab['rating'] = ab['rating'].round()"
      ],
      "metadata": {
        "id": "g3DemTEkRcyj"
      },
      "execution_count": null,
      "outputs": []
    },
    {
      "cell_type": "code",
      "source": [
        "ab['rating'] = ab['rating'].astype(int)"
      ],
      "metadata": {
        "id": "LbmUSkRXnjM7"
      },
      "execution_count": null,
      "outputs": []
    },
    {
      "cell_type": "code",
      "source": [
        "ab.to_csv(\"ab.csv\", index=False)"
      ],
      "metadata": {
        "id": "V0wfga8nVMgy"
      },
      "execution_count": null,
      "outputs": []
    },
    {
      "cell_type": "code",
      "source": [],
      "metadata": {
        "id": "6X_8lkECVLAs"
      },
      "execution_count": null,
      "outputs": []
    }
  ]
}